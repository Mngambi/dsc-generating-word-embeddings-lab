{
  "cells": [
    {
      "cell_type": "markdown",
      "metadata": {
        "id": "view-in-github",
        "colab_type": "text"
      },
      "source": [
        "<a href=\"https://colab.research.google.com/github/Mngambi/dsc-generating-word-embeddings-lab/blob/master/index.ipynb\" target=\"_parent\"><img src=\"https://colab.research.google.com/assets/colab-badge.svg\" alt=\"Open In Colab\"/></a>"
      ]
    },
    {
      "cell_type": "markdown",
      "metadata": {
        "id": "-iDkFwpYAvV_"
      },
      "source": [
        "# Generating Word Embeddings - Lab\n",
        "\n",
        "## Introduction\n",
        "\n",
        "In this lab, you'll learn how to generate word embeddings by training a Word2Vec model, and then embedding layers into deep neural networks for NLP!\n",
        "\n",
        "## Objectives\n",
        "\n",
        "You will be able to:\n",
        "\n",
        "- Train a Word2Vec model and transform words into vectors\n",
        "- Obtain most similar words by using methods associated with word vectors\n",
        "\n",
        "\n",
        "## Getting Started\n",
        "\n",
        "In this lab, you'll start by creating your own word embeddings by making use of the Word2Vec model. Then, you'll move onto building neural networks that make use of **_Embedding Layers_** to accomplish the same end-goal, but directly in your model.\n",
        "\n",
        "As you've seen, the easiest way to make use of Word2Vec is to import it from the [Gensim Library](https://radimrehurek.com/gensim/). This model contains a full implementation of Word2Vec, which you can use to begin training immediately. For this lab, you'll be working with the [News Category Dataset from Kaggle](https://www.kaggle.com/rmisra/news-category-dataset/version/2#_=_).  This dataset contains headlines and article descriptions from the news, as well as categories for which type of article they belong to.\n",
        "\n",
        "Run the cell below to import everything you'll need for this lab."
      ]
    },
    {
      "cell_type": "code",
      "execution_count": 5,
      "metadata": {
        "id": "tXWtUSd8AvWE"
      },
      "outputs": [],
      "source": [
        "import pandas as pd\n",
        "import numpy as np\n",
        "np.random.seed(0)\n",
        "from gensim.models import Word2Vec\n",
        "import nltk\n",
        "from nltk import word_tokenize"
      ]
    },
    {
      "cell_type": "markdown",
      "metadata": {
        "id": "-3S0JF85AvWF"
      },
      "source": [
        "Now, import the data. The data is stored in the file `'News_Category_Dataset_v2.json'`.  This file is compressed, so that it can be more easily stored in a GitHub repo. **_Make sure to unzip the file before continuing!_**\n",
        "\n",
        "In the cell below, use the `read_json()` function from Pandas to read the dataset into a DataFrame. Be sure to include the parameter `lines=True` when reading in the dataset!\n",
        "\n",
        "Once you've imported the data, inspect the first few rows of the DataFrame to see what your data looks like."
      ]
    },
    {
      "cell_type": "code",
      "execution_count": 3,
      "metadata": {
        "colab": {
          "base_uri": "https://localhost:8080/",
          "height": 414
        },
        "id": "qNKSJKOOAvWG",
        "outputId": "ca87ada3-1c1c-4f70-b759-a8df7a02cd19"
      },
      "outputs": [
        {
          "output_type": "execute_result",
          "data": {
            "text/plain": [
              "           authors       category        date  \\\n",
              "0  Melissa Jeltsen          CRIME  2018-05-26   \n",
              "1    Andy McDonald  ENTERTAINMENT  2018-05-26   \n",
              "2       Ron Dicker  ENTERTAINMENT  2018-05-26   \n",
              "3       Ron Dicker  ENTERTAINMENT  2018-05-26   \n",
              "4       Ron Dicker  ENTERTAINMENT  2018-05-26   \n",
              "\n",
              "                                            headline  \\\n",
              "0  There Were 2 Mass Shootings In Texas Last Week...   \n",
              "1  Will Smith Joins Diplo And Nicky Jam For The 2...   \n",
              "2    Hugh Grant Marries For The First Time At Age 57   \n",
              "3  Jim Carrey Blasts 'Castrato' Adam Schiff And D...   \n",
              "4  Julianna Margulies Uses Donald Trump Poop Bags...   \n",
              "\n",
              "                                                link  \\\n",
              "0  https://www.huffingtonpost.com/entry/texas-ama...   \n",
              "1  https://www.huffingtonpost.com/entry/will-smit...   \n",
              "2  https://www.huffingtonpost.com/entry/hugh-gran...   \n",
              "3  https://www.huffingtonpost.com/entry/jim-carre...   \n",
              "4  https://www.huffingtonpost.com/entry/julianna-...   \n",
              "\n",
              "                                   short_description  \n",
              "0  She left her husband. He killed their children...  \n",
              "1                           Of course it has a song.  \n",
              "2  The actor and his longtime girlfriend Anna Ebe...  \n",
              "3  The actor gives Dems an ass-kicking for not fi...  \n",
              "4  The \"Dietland\" actress said using the bags is ...  "
            ],
            "text/html": [
              "\n",
              "  <div id=\"df-ec7114be-c142-4f87-9fa2-23fa75abe1a6\" class=\"colab-df-container\">\n",
              "    <div>\n",
              "<style scoped>\n",
              "    .dataframe tbody tr th:only-of-type {\n",
              "        vertical-align: middle;\n",
              "    }\n",
              "\n",
              "    .dataframe tbody tr th {\n",
              "        vertical-align: top;\n",
              "    }\n",
              "\n",
              "    .dataframe thead th {\n",
              "        text-align: right;\n",
              "    }\n",
              "</style>\n",
              "<table border=\"1\" class=\"dataframe\">\n",
              "  <thead>\n",
              "    <tr style=\"text-align: right;\">\n",
              "      <th></th>\n",
              "      <th>authors</th>\n",
              "      <th>category</th>\n",
              "      <th>date</th>\n",
              "      <th>headline</th>\n",
              "      <th>link</th>\n",
              "      <th>short_description</th>\n",
              "    </tr>\n",
              "  </thead>\n",
              "  <tbody>\n",
              "    <tr>\n",
              "      <th>0</th>\n",
              "      <td>Melissa Jeltsen</td>\n",
              "      <td>CRIME</td>\n",
              "      <td>2018-05-26</td>\n",
              "      <td>There Were 2 Mass Shootings In Texas Last Week...</td>\n",
              "      <td>https://www.huffingtonpost.com/entry/texas-ama...</td>\n",
              "      <td>She left her husband. He killed their children...</td>\n",
              "    </tr>\n",
              "    <tr>\n",
              "      <th>1</th>\n",
              "      <td>Andy McDonald</td>\n",
              "      <td>ENTERTAINMENT</td>\n",
              "      <td>2018-05-26</td>\n",
              "      <td>Will Smith Joins Diplo And Nicky Jam For The 2...</td>\n",
              "      <td>https://www.huffingtonpost.com/entry/will-smit...</td>\n",
              "      <td>Of course it has a song.</td>\n",
              "    </tr>\n",
              "    <tr>\n",
              "      <th>2</th>\n",
              "      <td>Ron Dicker</td>\n",
              "      <td>ENTERTAINMENT</td>\n",
              "      <td>2018-05-26</td>\n",
              "      <td>Hugh Grant Marries For The First Time At Age 57</td>\n",
              "      <td>https://www.huffingtonpost.com/entry/hugh-gran...</td>\n",
              "      <td>The actor and his longtime girlfriend Anna Ebe...</td>\n",
              "    </tr>\n",
              "    <tr>\n",
              "      <th>3</th>\n",
              "      <td>Ron Dicker</td>\n",
              "      <td>ENTERTAINMENT</td>\n",
              "      <td>2018-05-26</td>\n",
              "      <td>Jim Carrey Blasts 'Castrato' Adam Schiff And D...</td>\n",
              "      <td>https://www.huffingtonpost.com/entry/jim-carre...</td>\n",
              "      <td>The actor gives Dems an ass-kicking for not fi...</td>\n",
              "    </tr>\n",
              "    <tr>\n",
              "      <th>4</th>\n",
              "      <td>Ron Dicker</td>\n",
              "      <td>ENTERTAINMENT</td>\n",
              "      <td>2018-05-26</td>\n",
              "      <td>Julianna Margulies Uses Donald Trump Poop Bags...</td>\n",
              "      <td>https://www.huffingtonpost.com/entry/julianna-...</td>\n",
              "      <td>The \"Dietland\" actress said using the bags is ...</td>\n",
              "    </tr>\n",
              "  </tbody>\n",
              "</table>\n",
              "</div>\n",
              "    <div class=\"colab-df-buttons\">\n",
              "\n",
              "  <div class=\"colab-df-container\">\n",
              "    <button class=\"colab-df-convert\" onclick=\"convertToInteractive('df-ec7114be-c142-4f87-9fa2-23fa75abe1a6')\"\n",
              "            title=\"Convert this dataframe to an interactive table.\"\n",
              "            style=\"display:none;\">\n",
              "\n",
              "  <svg xmlns=\"http://www.w3.org/2000/svg\" height=\"24px\" viewBox=\"0 -960 960 960\">\n",
              "    <path d=\"M120-120v-720h720v720H120Zm60-500h600v-160H180v160Zm220 220h160v-160H400v160Zm0 220h160v-160H400v160ZM180-400h160v-160H180v160Zm440 0h160v-160H620v160ZM180-180h160v-160H180v160Zm440 0h160v-160H620v160Z\"/>\n",
              "  </svg>\n",
              "    </button>\n",
              "\n",
              "  <style>\n",
              "    .colab-df-container {\n",
              "      display:flex;\n",
              "      gap: 12px;\n",
              "    }\n",
              "\n",
              "    .colab-df-convert {\n",
              "      background-color: #E8F0FE;\n",
              "      border: none;\n",
              "      border-radius: 50%;\n",
              "      cursor: pointer;\n",
              "      display: none;\n",
              "      fill: #1967D2;\n",
              "      height: 32px;\n",
              "      padding: 0 0 0 0;\n",
              "      width: 32px;\n",
              "    }\n",
              "\n",
              "    .colab-df-convert:hover {\n",
              "      background-color: #E2EBFA;\n",
              "      box-shadow: 0px 1px 2px rgba(60, 64, 67, 0.3), 0px 1px 3px 1px rgba(60, 64, 67, 0.15);\n",
              "      fill: #174EA6;\n",
              "    }\n",
              "\n",
              "    .colab-df-buttons div {\n",
              "      margin-bottom: 4px;\n",
              "    }\n",
              "\n",
              "    [theme=dark] .colab-df-convert {\n",
              "      background-color: #3B4455;\n",
              "      fill: #D2E3FC;\n",
              "    }\n",
              "\n",
              "    [theme=dark] .colab-df-convert:hover {\n",
              "      background-color: #434B5C;\n",
              "      box-shadow: 0px 1px 3px 1px rgba(0, 0, 0, 0.15);\n",
              "      filter: drop-shadow(0px 1px 2px rgba(0, 0, 0, 0.3));\n",
              "      fill: #FFFFFF;\n",
              "    }\n",
              "  </style>\n",
              "\n",
              "    <script>\n",
              "      const buttonEl =\n",
              "        document.querySelector('#df-ec7114be-c142-4f87-9fa2-23fa75abe1a6 button.colab-df-convert');\n",
              "      buttonEl.style.display =\n",
              "        google.colab.kernel.accessAllowed ? 'block' : 'none';\n",
              "\n",
              "      async function convertToInteractive(key) {\n",
              "        const element = document.querySelector('#df-ec7114be-c142-4f87-9fa2-23fa75abe1a6');\n",
              "        const dataTable =\n",
              "          await google.colab.kernel.invokeFunction('convertToInteractive',\n",
              "                                                    [key], {});\n",
              "        if (!dataTable) return;\n",
              "\n",
              "        const docLinkHtml = 'Like what you see? Visit the ' +\n",
              "          '<a target=\"_blank\" href=https://colab.research.google.com/notebooks/data_table.ipynb>data table notebook</a>'\n",
              "          + ' to learn more about interactive tables.';\n",
              "        element.innerHTML = '';\n",
              "        dataTable['output_type'] = 'display_data';\n",
              "        await google.colab.output.renderOutput(dataTable, element);\n",
              "        const docLink = document.createElement('div');\n",
              "        docLink.innerHTML = docLinkHtml;\n",
              "        element.appendChild(docLink);\n",
              "      }\n",
              "    </script>\n",
              "  </div>\n",
              "\n",
              "\n",
              "<div id=\"df-edac4ff4-821e-4749-adca-4479f7cb8444\">\n",
              "  <button class=\"colab-df-quickchart\" onclick=\"quickchart('df-edac4ff4-821e-4749-adca-4479f7cb8444')\"\n",
              "            title=\"Suggest charts\"\n",
              "            style=\"display:none;\">\n",
              "\n",
              "<svg xmlns=\"http://www.w3.org/2000/svg\" height=\"24px\"viewBox=\"0 0 24 24\"\n",
              "     width=\"24px\">\n",
              "    <g>\n",
              "        <path d=\"M19 3H5c-1.1 0-2 .9-2 2v14c0 1.1.9 2 2 2h14c1.1 0 2-.9 2-2V5c0-1.1-.9-2-2-2zM9 17H7v-7h2v7zm4 0h-2V7h2v10zm4 0h-2v-4h2v4z\"/>\n",
              "    </g>\n",
              "</svg>\n",
              "  </button>\n",
              "\n",
              "<style>\n",
              "  .colab-df-quickchart {\n",
              "      --bg-color: #E8F0FE;\n",
              "      --fill-color: #1967D2;\n",
              "      --hover-bg-color: #E2EBFA;\n",
              "      --hover-fill-color: #174EA6;\n",
              "      --disabled-fill-color: #AAA;\n",
              "      --disabled-bg-color: #DDD;\n",
              "  }\n",
              "\n",
              "  [theme=dark] .colab-df-quickchart {\n",
              "      --bg-color: #3B4455;\n",
              "      --fill-color: #D2E3FC;\n",
              "      --hover-bg-color: #434B5C;\n",
              "      --hover-fill-color: #FFFFFF;\n",
              "      --disabled-bg-color: #3B4455;\n",
              "      --disabled-fill-color: #666;\n",
              "  }\n",
              "\n",
              "  .colab-df-quickchart {\n",
              "    background-color: var(--bg-color);\n",
              "    border: none;\n",
              "    border-radius: 50%;\n",
              "    cursor: pointer;\n",
              "    display: none;\n",
              "    fill: var(--fill-color);\n",
              "    height: 32px;\n",
              "    padding: 0;\n",
              "    width: 32px;\n",
              "  }\n",
              "\n",
              "  .colab-df-quickchart:hover {\n",
              "    background-color: var(--hover-bg-color);\n",
              "    box-shadow: 0 1px 2px rgba(60, 64, 67, 0.3), 0 1px 3px 1px rgba(60, 64, 67, 0.15);\n",
              "    fill: var(--button-hover-fill-color);\n",
              "  }\n",
              "\n",
              "  .colab-df-quickchart-complete:disabled,\n",
              "  .colab-df-quickchart-complete:disabled:hover {\n",
              "    background-color: var(--disabled-bg-color);\n",
              "    fill: var(--disabled-fill-color);\n",
              "    box-shadow: none;\n",
              "  }\n",
              "\n",
              "  .colab-df-spinner {\n",
              "    border: 2px solid var(--fill-color);\n",
              "    border-color: transparent;\n",
              "    border-bottom-color: var(--fill-color);\n",
              "    animation:\n",
              "      spin 1s steps(1) infinite;\n",
              "  }\n",
              "\n",
              "  @keyframes spin {\n",
              "    0% {\n",
              "      border-color: transparent;\n",
              "      border-bottom-color: var(--fill-color);\n",
              "      border-left-color: var(--fill-color);\n",
              "    }\n",
              "    20% {\n",
              "      border-color: transparent;\n",
              "      border-left-color: var(--fill-color);\n",
              "      border-top-color: var(--fill-color);\n",
              "    }\n",
              "    30% {\n",
              "      border-color: transparent;\n",
              "      border-left-color: var(--fill-color);\n",
              "      border-top-color: var(--fill-color);\n",
              "      border-right-color: var(--fill-color);\n",
              "    }\n",
              "    40% {\n",
              "      border-color: transparent;\n",
              "      border-right-color: var(--fill-color);\n",
              "      border-top-color: var(--fill-color);\n",
              "    }\n",
              "    60% {\n",
              "      border-color: transparent;\n",
              "      border-right-color: var(--fill-color);\n",
              "    }\n",
              "    80% {\n",
              "      border-color: transparent;\n",
              "      border-right-color: var(--fill-color);\n",
              "      border-bottom-color: var(--fill-color);\n",
              "    }\n",
              "    90% {\n",
              "      border-color: transparent;\n",
              "      border-bottom-color: var(--fill-color);\n",
              "    }\n",
              "  }\n",
              "</style>\n",
              "\n",
              "  <script>\n",
              "    async function quickchart(key) {\n",
              "      const quickchartButtonEl =\n",
              "        document.querySelector('#' + key + ' button');\n",
              "      quickchartButtonEl.disabled = true;  // To prevent multiple clicks.\n",
              "      quickchartButtonEl.classList.add('colab-df-spinner');\n",
              "      try {\n",
              "        const charts = await google.colab.kernel.invokeFunction(\n",
              "            'suggestCharts', [key], {});\n",
              "      } catch (error) {\n",
              "        console.error('Error during call to suggestCharts:', error);\n",
              "      }\n",
              "      quickchartButtonEl.classList.remove('colab-df-spinner');\n",
              "      quickchartButtonEl.classList.add('colab-df-quickchart-complete');\n",
              "    }\n",
              "    (() => {\n",
              "      let quickchartButtonEl =\n",
              "        document.querySelector('#df-edac4ff4-821e-4749-adca-4479f7cb8444 button');\n",
              "      quickchartButtonEl.style.display =\n",
              "        google.colab.kernel.accessAllowed ? 'block' : 'none';\n",
              "    })();\n",
              "  </script>\n",
              "</div>\n",
              "\n",
              "    </div>\n",
              "  </div>\n"
            ],
            "application/vnd.google.colaboratory.intrinsic+json": {
              "type": "dataframe",
              "variable_name": "df"
            }
          },
          "metadata": {},
          "execution_count": 3
        }
      ],
      "source": [
        "df = pd.read_csv('News_Category_Dataset_v2.csv')\n",
        "df.head()"
      ]
    },
    {
      "cell_type": "markdown",
      "metadata": {
        "id": "u00FcwniAvWG"
      },
      "source": [
        "## Preparing the Data\n",
        "\n",
        "Since you're working with text data, you need to do some basic preprocessing including tokenization. Notice from the data sample that two different columns contain text data -- `headline` and `short_description`. The more text data your Word2Vec model has, the better it will perform. Therefore, you'll want to combine the two columns before tokenizing each comment and training your Word2Vec model.\n",
        "\n",
        "In the cell below:\n",
        "\n",
        "* Create a column called `'combined_text'` that consists of the data from the `'headline'` column plus a space character (`' '`) plus the data from the `'short_description'` column\n",
        "* Use the `'combined_text'` column's `.map()` method and pass in `word_tokenize`. Store the result returned in `data`"
      ]
    },
    {
      "cell_type": "code",
      "execution_count": 8,
      "metadata": {
        "colab": {
          "base_uri": "https://localhost:8080/"
        },
        "id": "GmiSbCaZAvWH",
        "outputId": "19e545c9-1a04-46ff-e547-4f7681ea8551"
      },
      "outputs": [
        {
          "output_type": "stream",
          "name": "stderr",
          "text": [
            "[nltk_data] Downloading package punkt to /root/nltk_data...\n",
            "[nltk_data]   Package punkt is already up-to-date!\n"
          ]
        }
      ],
      "source": [
        "nltk.download('punkt')\n",
        "\n",
        "df['combined_text'] = df['headline'] + ' ' + df['short_description']\n",
        "\n",
        "df['combined_text'] = df['combined_text'].astype(str)\n",
        "\n",
        "# Tokenize the combined text\n",
        "df['combined_text'] = df['combined_text'].map(word_tokenize)\n",
        "\n",
        "# Display the first few rows to inspect the tokenized data\n",
        "\n",
        "data = df['combined_text']"
      ]
    },
    {
      "cell_type": "markdown",
      "metadata": {
        "id": "EuTchRliAvWH"
      },
      "source": [
        "Inspect the first 5 items in `data` to see how everything looks."
      ]
    },
    {
      "cell_type": "code",
      "execution_count": 9,
      "metadata": {
        "colab": {
          "base_uri": "https://localhost:8080/"
        },
        "id": "xBwevCmJAvWH",
        "outputId": "fcc9140c-036f-4a47-bfbe-d5ce1043c519"
      },
      "outputs": [
        {
          "output_type": "execute_result",
          "data": {
            "text/plain": [
              "0    [There, Were, 2, Mass, Shootings, In, Texas, L...\n",
              "1    [Will, Smith, Joins, Diplo, And, Nicky, Jam, F...\n",
              "2    [Hugh, Grant, Marries, For, The, First, Time, ...\n",
              "3    [Jim, Carrey, Blasts, 'Castrato, ', Adam, Schi...\n",
              "4    [Julianna, Margulies, Uses, Donald, Trump, Poo...\n",
              "Name: combined_text, dtype: object"
            ]
          },
          "metadata": {},
          "execution_count": 9
        }
      ],
      "source": [
        "data[:5]"
      ]
    },
    {
      "cell_type": "markdown",
      "metadata": {
        "id": "dAToXnhiAvWI"
      },
      "source": [
        "Notice that although the words are tokenized, they are still in the same order they were in as headlines. This is important, because the words need to be in their original order for Word2Vec to establish the meaning of them. Remember that for a Word2Vec model you can specify a  **_Window Size_** that tells the model how many words to take into consideration at one time.\n",
        "\n",
        "If your window size was 5, then the model would start by looking at the words \"Will Smith joins Diplo and\", and then slide the window by one, so that it's looking at \"Smith joins Diplo and Nicky\", and so on, until it had completely processed the text example at index 1 above. By doing this for every piece of text in the entire dataset, the Word2Vec model learns excellent vector representations for each word in an **_Embedding Space_**, where the relationships between vectors capture semantic meaning (recall the vector that captures gender in the previous \"king - man + woman = queen\" example you saw).\n",
        "\n",
        "Now that you've prepared the data, train your model and explore a bit!\n",
        "\n",
        "## Training the Model\n",
        "\n",
        "Start by instantiating a Word2Vec Model from `gensim`.\n",
        "\n",
        "In the cell below:\n",
        "\n",
        "* Create a `Word2Vec` model and pass in the following arguments:\n",
        "    * The dataset we'll be training on, `data`\n",
        "    * The size of the word vectors to create, `size=100`\n",
        "    * The window size, `window=5`\n",
        "    * The minimum number of times a word needs to appear in order to be counted in  the model, `min_count=1`\n",
        "    * The number of threads to use during training, `workers=4`"
      ]
    },
    {
      "cell_type": "code",
      "execution_count": 11,
      "metadata": {
        "id": "OubNJB0FAvWI"
      },
      "outputs": [],
      "source": [
        "model = Word2Vec(data, vector_size=100, window=5, min_count=1, workers=4)"
      ]
    },
    {
      "cell_type": "markdown",
      "metadata": {
        "id": "MdNBAkx9AvWI"
      },
      "source": [
        "Now, that you've instantiated Word2Vec model, train it on your text data.\n",
        "\n",
        "In the cell below:\n",
        "\n",
        "* Call the `.train()` method on your model and pass in the following parameters:\n",
        "    * The dataset we'll be training on, `data`\n",
        "    * The `total_examples`  of sentences in the dataset, which you can find in `model.corpus_count`\n",
        "    * The number of `epochs` you want to train for, which we'll set to `10`"
      ]
    },
    {
      "cell_type": "code",
      "execution_count": 13,
      "metadata": {
        "colab": {
          "base_uri": "https://localhost:8080/"
        },
        "id": "qHRWpn4WAvWJ",
        "outputId": "ad28d7c1-ba99-4939-f5ea-a75d47b32600"
      },
      "outputs": [
        {
          "output_type": "stream",
          "name": "stderr",
          "text": [
            "WARNING:gensim.models.word2vec:Effective 'alpha' higher than previous training cycles\n"
          ]
        },
        {
          "output_type": "execute_result",
          "data": {
            "text/plain": [
              "(53948506, 65591130)"
            ]
          },
          "metadata": {},
          "execution_count": 13
        }
      ],
      "source": [
        "model.train(data, total_examples = model.corpus_count, epochs = 10)"
      ]
    },
    {
      "cell_type": "markdown",
      "metadata": {
        "id": "5XGmMb1QAvWJ"
      },
      "source": [
        "Great! You now have a fully trained model! The word vectors themselves are stored in the `Word2VecKeyedVectors` instance, which is stored in the `.wv` attribute. To simplify this, restore this object inside of the variable `wv` to save yourself some keystrokes down the line."
      ]
    },
    {
      "cell_type": "code",
      "execution_count": 14,
      "metadata": {
        "id": "6JKYjcVaAvWJ"
      },
      "outputs": [],
      "source": [
        "wv = model.wv"
      ]
    },
    {
      "cell_type": "markdown",
      "metadata": {
        "id": "lKMNGYZiAvWJ"
      },
      "source": [
        "## Examining Your Word Vectors\n",
        "\n",
        "Now that you have a trained Word2Vec model, go ahead and explore the relationships between some of the words in the corpus!\n",
        "\n",
        "One cool thing you can use Word2Vec for is to get the most similar words to a given word. You can do this by passing in the word to `wv.most_similar()`.\n",
        "\n",
        "In the cell below, try getting the most similar word to `'Texas'`."
      ]
    },
    {
      "cell_type": "code",
      "execution_count": 15,
      "metadata": {
        "colab": {
          "base_uri": "https://localhost:8080/"
        },
        "id": "si7XgXL_AvWK",
        "outputId": "3b6c9ea9-3a18-4a91-cd23-b50a8e209674"
      },
      "outputs": [
        {
          "output_type": "execute_result",
          "data": {
            "text/plain": [
              "[('Maryland', 0.8139601349830627),\n",
              " ('Pennsylvania', 0.8036527037620544),\n",
              " ('Louisiana', 0.8002697825431824),\n",
              " ('Arkansas', 0.795661211013794),\n",
              " ('Oregon', 0.7946459650993347),\n",
              " ('Georgia', 0.7909244894981384),\n",
              " ('Ohio', 0.7888235449790955),\n",
              " ('California', 0.7886297106742859),\n",
              " ('Utah', 0.7870084643363953),\n",
              " ('Florida', 0.7796040177345276)]"
            ]
          },
          "metadata": {},
          "execution_count": 15
        }
      ],
      "source": [
        "wv.most_similar('Texas')"
      ]
    },
    {
      "cell_type": "markdown",
      "metadata": {
        "id": "vxjxO1McAvWK"
      },
      "source": [
        "Interesting! All of the most similar words are also states.\n",
        "\n",
        "You can also get the least similar vectors to a given word by passing in the word to the `.most_similar()` method's `negative` parameter.\n",
        "\n",
        "In the cell below, get the least similar words to `'Texas'`."
      ]
    },
    {
      "cell_type": "code",
      "execution_count": 16,
      "metadata": {
        "colab": {
          "base_uri": "https://localhost:8080/"
        },
        "id": "vyrWTibAAvWK",
        "outputId": "ee24b833-fa34-4b6c-d8fb-8b15746aec4a"
      },
      "outputs": [
        {
          "output_type": "execute_result",
          "data": {
            "text/plain": [
              "[('dreams…', 0.4211546778678894),\n",
              " ('barbers', 0.42086607217788696),\n",
              " ('book-selling', 0.4177745282649994),\n",
              " ('bean-to-bar', 0.41288691759109497),\n",
              " ('Butchering', 0.409580796957016),\n",
              " ('heave-ho', 0.40630730986595154),\n",
              " ('clothe', 0.4032965898513794),\n",
              " ('squelches', 0.3997737765312195),\n",
              " ('crave', 0.3976283669471741),\n",
              " ('savor', 0.3910464644432068)]"
            ]
          },
          "metadata": {},
          "execution_count": 16
        }
      ],
      "source": [
        "wv.most_similar(negative = 'Texas')"
      ]
    },
    {
      "cell_type": "markdown",
      "metadata": {
        "id": "5QqekeAiAvWK"
      },
      "source": [
        "This seems like random noise. It is a result of the way Word2Vec is computing the similarity between word vectors in the embedding space. Although the word vectors closest to a given word vector are almost certainly going to have similar meaning or connotation with your given word, the word vectors that the model considers 'least similar' are just the word vectors that are farthest away, or have the lowest cosine similarity. It's important to understand that while the closest vectors in the embedding space will almost certainly share some level of semantic meaning with a given word, there is no guarantee that this relationship will hold at large distances.\n",
        "\n",
        "You can also get the vector for a given word by passing in the word as if you were passing in a key to a dictionary.\n",
        "\n",
        "In the cell below, get the word vector for `'Texas'`."
      ]
    },
    {
      "cell_type": "code",
      "execution_count": 18,
      "metadata": {
        "colab": {
          "base_uri": "https://localhost:8080/"
        },
        "id": "-W_xtP6CAvWK",
        "outputId": "23c11a71-a1f2-4ca6-c85e-7ab380762f92"
      },
      "outputs": [
        {
          "output_type": "execute_result",
          "data": {
            "text/plain": [
              "array([ 0.22217141,  0.87112224,  0.7391627 ,  0.515254  ,  0.30281776,\n",
              "        1.7726098 ,  0.8205501 ,  0.6442181 , -0.80416566, -0.51955104,\n",
              "       -0.86031854, -0.8204836 ,  1.6551604 , -1.933038  , -1.3417718 ,\n",
              "       -2.1606588 ,  0.09147494, -0.7334369 , -0.6124126 , -0.5225271 ,\n",
              "        0.6346694 , -0.22254959,  0.02006735, -1.0744045 ,  1.4458474 ,\n",
              "       -0.40388706,  0.9141012 ,  0.54518735,  0.4294047 ,  0.39026847,\n",
              "        1.4258251 , -1.0647564 , -2.9693897 , -1.6051122 , -1.2095877 ,\n",
              "       -0.22459689,  2.412939  , -1.7531189 ,  1.3400723 , -0.6921844 ,\n",
              "        0.85666686, -0.11849586, -0.6490497 , -2.001796  , -2.221216  ,\n",
              "       -0.8083835 , -3.0974617 ,  1.1626399 , -0.68072516,  1.4913346 ,\n",
              "       -0.13961944, -0.86258024,  0.513815  , -2.067179  , -2.698512  ,\n",
              "       -0.54548687, -0.27285355,  1.6630605 , -0.264176  ,  0.5397529 ,\n",
              "        1.5965425 , -0.55283374,  0.62561196, -1.7701678 , -0.17797868,\n",
              "        2.649918  ,  0.01349298,  1.7463522 , -1.5964756 ,  1.7952108 ,\n",
              "       -1.1478308 , -0.29889357,  0.31991735, -2.1869993 , -1.0213956 ,\n",
              "        0.42957994,  0.4292956 , -0.5226027 ,  1.5662385 ,  1.0138304 ,\n",
              "        1.4322602 ,  0.7637453 , -0.45264482,  0.35089394, -0.28672272,\n",
              "        0.2906806 , -0.68743014,  0.6130619 , -0.65828556, -2.5571332 ,\n",
              "       -1.8891238 , -1.1656637 , -3.1537976 , -2.2914107 , -2.4799228 ,\n",
              "        1.4160935 ,  2.038209  ,  0.89797   ,  1.7928214 ,  1.0771276 ],\n",
              "      dtype=float32)"
            ]
          },
          "metadata": {},
          "execution_count": 18
        }
      ],
      "source": [
        "wv['Texas']"
      ]
    },
    {
      "cell_type": "markdown",
      "metadata": {
        "id": "97JJwueVAvWL"
      },
      "source": [
        "Now get all of the word vectors from the object at once. You can find these inside of `wv.vectors`. Try it out in the cell below.  "
      ]
    },
    {
      "cell_type": "code",
      "execution_count": 19,
      "metadata": {
        "colab": {
          "base_uri": "https://localhost:8080/"
        },
        "id": "KdYLvfzZAvWL",
        "outputId": "d91d59bb-7ca0-4f2c-ebea-6c83cd842097"
      },
      "outputs": [
        {
          "output_type": "execute_result",
          "data": {
            "text/plain": [
              "array([[ 4.2542290e-02, -2.1577649e-01, -1.4970371e+00, ...,\n",
              "        -2.0171845e+00, -6.9785565e-01,  2.4467449e+00],\n",
              "       [-1.2703447e+00, -4.9568641e-01, -1.6766056e+00, ...,\n",
              "        -2.8246958e+00, -1.9154435e+00,  1.3611634e+00],\n",
              "       [-8.7466615e-01, -7.9602563e-01, -1.3294630e+00, ...,\n",
              "        -5.7183206e-01,  2.4109747e+00,  5.0759214e-01],\n",
              "       ...,\n",
              "       [ 5.4313704e-02, -2.6301863e-02,  4.3602679e-02, ...,\n",
              "        -5.2183498e-02, -4.3695364e-02, -1.1918947e-02],\n",
              "       [-2.2647740e-02,  1.4364987e-02, -4.1366119e-02, ...,\n",
              "        -1.2917069e-01,  4.4304941e-02,  4.1366827e-02],\n",
              "       [-1.7938606e-02,  3.6227588e-02,  3.9658576e-02, ...,\n",
              "        -1.7293084e-02, -2.6459325e-02, -1.2370693e-03]], dtype=float32)"
            ]
          },
          "metadata": {},
          "execution_count": 19
        }
      ],
      "source": [
        "wv.vectors"
      ]
    },
    {
      "cell_type": "markdown",
      "metadata": {
        "id": "f8U7wsJTAvWL"
      },
      "source": [
        "As a final exercise, try to recreate the _'king' - 'man' + 'woman' = 'queen'_ example previously mentioned. You can do this by using the `.most_similar()` method and translating the word analogies into an addition/subtraction formulation (as shown above). Pass the original comparison, which you are calculating a difference between, to the negative parameter, and the analogous starter you want to apply the same transformation to, to the `positive` parameter.\n",
        "\n",
        "Do this now in the cell below."
      ]
    },
    {
      "cell_type": "code",
      "execution_count": 20,
      "metadata": {
        "colab": {
          "base_uri": "https://localhost:8080/"
        },
        "id": "h4jywvz1AvWL",
        "outputId": "eeb25710-32b4-4291-980c-e07cdb0d12d6"
      },
      "outputs": [
        {
          "output_type": "execute_result",
          "data": {
            "text/plain": [
              "[(\"'Scooby-Doo\", 0.5563579201698303),\n",
              " ('regents', 0.527040421962738),\n",
              " ('stinkin', 0.525495707988739),\n",
              " ('y', 0.5254740715026855),\n",
              " ('80s', 0.5180624723434448),\n",
              " ('mon', 0.5107259154319763),\n",
              " ('Katwe', 0.507721483707428),\n",
              " ('Orcia', 0.5039877891540527),\n",
              " ('nina', 0.5038350224494934),\n",
              " ('Livin', 0.5032905340194702)]"
            ]
          },
          "metadata": {},
          "execution_count": 20
        }
      ],
      "source": [
        "wv.most_similar(negative = 'man', positive = ['woman', 'king'])"
      ]
    },
    {
      "cell_type": "markdown",
      "metadata": {
        "id": "PriPdKo3AvWL"
      },
      "source": [
        "As you can see from the output above, your model isn't perfect, but 'Queen' and 'Princess' are still in the top 5. As you can see from the other word in top 5, 'reminiscent' -- your model is far from perfect. This is likely because you didn't have enough training data. That said, given the small amount of training data provided, the model still performs remarkably well!\n",
        "\n",
        "In the next lab, you'll reinvestigate transfer learning, loading in the weights from an open-sourced model that has already been trained for a very long time on a massive amount of data. Specifically, you'll work with the GloVe model from the Stanford NLP Group. There's not really any benefit from training the model ourselves, unless your text uses different, specialized vocabulary that isn't likely to be well represented inside an open-source model.\n",
        "\n",
        "## Summary\n",
        "\n",
        "In this lab, you learned how to train and use a Word2Vec model to create vectorized word embeddings!"
      ]
    }
  ],
  "metadata": {
    "kernelspec": {
      "display_name": "Python 3",
      "language": "python",
      "name": "python3"
    },
    "language_info": {
      "codemirror_mode": {
        "name": "ipython",
        "version": 3
      },
      "file_extension": ".py",
      "mimetype": "text/x-python",
      "name": "python",
      "nbconvert_exporter": "python",
      "pygments_lexer": "ipython3",
      "version": "3.7.3"
    },
    "colab": {
      "provenance": [],
      "include_colab_link": true
    }
  },
  "nbformat": 4,
  "nbformat_minor": 0
}